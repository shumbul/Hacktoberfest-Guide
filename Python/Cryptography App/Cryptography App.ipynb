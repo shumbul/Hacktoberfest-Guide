{
 "cells": [
  {
   "cell_type": "markdown",
   "metadata": {},
   "source": [
    "# PROJECT: Cryptography App"
   ]
  },
  {
   "cell_type": "code",
   "execution_count": 18,
   "metadata": {},
   "outputs": [],
   "source": [
    "import onetimepad"
   ]
  },
  {
   "cell_type": "code",
   "execution_count": 19,
   "metadata": {},
   "outputs": [],
   "source": [
    "from tkinter import *\n",
    "\n",
    "root=Tk()\n",
    "root.title(\"Cryptography App\")\n",
    "\n",
    "def encrypt_message():\n",
    "    a=var.get()\n",
    "    et=onetimepad.encrypt(a,\"Kolkata\")\n",
    "    e2.delete(0,END)\n",
    "    e2.insert(END,et)\n",
    "\n",
    "def decrypt_message():\n",
    "    a=var2.get()\n",
    "    dt=onetimepad.decrypt(a,\"Kolkata\")\n",
    "    e4.delete(0,END)\n",
    "    e4.insert(END,dt)\n",
    "\n",
    "l1=Label(root,text=\"Plain Text\")\n",
    "l1.grid(row=0, column=0)\n",
    "\n",
    "var=StringVar()\n",
    "e1=Entry(root,textvariable=var)\n",
    "e1.grid(row=0, column=1)\n",
    "\n",
    "l2=Label(root,text=\"Encrypted Text\")\n",
    "l2.grid(row=1, column=0)\n",
    "\n",
    "e2=Entry(root)\n",
    "e2.grid(row=1, column=1)\n",
    "\n",
    "b=Button(root,text=\"Encrypt\",command=encrypt_message)\n",
    "b.grid(row=0,column=2)\n",
    "\n",
    "l3=Label(root,text=\"Encrypted Text\")\n",
    "l3.grid(row=0, column=3)\n",
    "\n",
    "var2=StringVar()\n",
    "e3=Entry(root,textvariable=var2)\n",
    "e3.grid(row=0, column=4)\n",
    "\n",
    "l4=Label(root,text=\"Plain Text\")\n",
    "l4.grid(row=1, column=3)\n",
    "\n",
    "e4=Entry(root)\n",
    "e4.grid(row=1, column=4)\n",
    "\n",
    "b2=Button(root,text=\"Decrypt\",command=decrypt_message)\n",
    "b2.grid(row=0,column=5)\n",
    "\n",
    "root.mainloop()"
   ]
  },
  {
   "cell_type": "code",
   "execution_count": null,
   "metadata": {},
   "outputs": [],
   "source": []
  }
 ],
 "metadata": {
  "kernelspec": {
   "display_name": "Python 3",
   "language": "python",
   "name": "python3"
  },
  "language_info": {
   "codemirror_mode": {
    "name": "ipython",
    "version": 3
   },
   "file_extension": ".py",
   "mimetype": "text/x-python",
   "name": "python",
   "nbconvert_exporter": "python",
   "pygments_lexer": "ipython3",
   "version": "3.7.6"
  }
 },
 "nbformat": 4,
 "nbformat_minor": 4
}
